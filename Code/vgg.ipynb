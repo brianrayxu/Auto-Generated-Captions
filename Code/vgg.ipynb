{
 "cells": [
  {
   "cell_type": "markdown",
   "metadata": {},
   "source": [
    "# Downloading datasets and installing packages\n",
    "Uncomment to run; only necessary once for each user.\n",
    "source: https://github.com/Noob-can-Compile/Automatic-Image-Captioning/"
   ]
  },
  {
   "cell_type": "code",
   "execution_count": 1,
   "metadata": {},
   "outputs": [],
   "source": [
    "# #Gets validation data.\n",
    "#\n",
    "#!wget http://images.cocodataset.org/zips/val2014.zip\n",
    "#!unzip val2014.zip -d images"
   ]
  },
  {
   "cell_type": "code",
   "execution_count": 2,
   "metadata": {},
   "outputs": [],
   "source": [
    "# #Gets training data.\n",
    "\n",
    "# !wget  http://images.cocodataset.org/zips/train2014.zip\n",
    "# !unzip train2014.zip -d images"
   ]
  },
  {
   "cell_type": "code",
   "execution_count": 3,
   "metadata": {},
   "outputs": [],
   "source": [
    "# #downloads and unzips train/val annotations.\n",
    "\n",
    "# !wget http://images.cocodataset.org/annotations/annotations_trainval2014.zip\n",
    "# !unzip annotations_trainval2014.zip "
   ]
  },
  {
   "cell_type": "code",
   "execution_count": 4,
   "metadata": {},
   "outputs": [],
   "source": [
    "# !wget http://images.cocodataset.org/annotations/image_info_test2014.zip\n",
    "# !unzip image_info_test2014.zip"
   ]
  },
  {
   "cell_type": "code",
   "execution_count": 5,
   "metadata": {},
   "outputs": [],
   "source": [
    "# #downloads and unzips test data\n",
    "# !wget http://images.cocodataset.org/zips/test2014.zip\n",
    "# !unzip 'test2014.zip' -d images"
   ]
  },
  {
   "cell_type": "code",
   "execution_count": 6,
   "metadata": {},
   "outputs": [],
   "source": [
    "# #Install missing packages if modules not loaded\n",
    "# !pip install --user torch==1.7.0+cu110 torchvision==0.8.1+cu110 torchaudio===0.7.0 -f https://download.pytorch.org/whl/torch_stable.html\n",
    "# !pip install nltk"
   ]
  },
  {
   "cell_type": "code",
   "execution_count": null,
   "metadata": {
    "id": "B68L-vRriH1y"
   },
   "outputs": [],
   "source": [
    "# #Only use in Colab\n",
    "# from google.colab import files\n",
    "\n",
    "#!cd models\n",
    "\n",
    "#files.download('encoder-1.pkl')"
   ]
  },
  {
   "cell_type": "markdown",
   "metadata": {},
   "source": [
    "# Master import list"
   ]
  },
  {
   "cell_type": "code",
   "execution_count": 1,
   "metadata": {},
   "outputs": [],
   "source": [
    "import json\n",
    "import matplotlib.pyplot as plt\n",
    "import math\n",
    "import nltk\n",
    "import numpy as np\n",
    "import pickle\n",
    "import os\n",
    "import os.path\n",
    "import random\n",
    "import requests\n",
    "import sys\n",
    "import time\n",
    "import torch\n",
    "import torch.nn as nn\n",
    "import torchvision.models as models\n",
    "import torch.utils.data as data\n",
    "from torchvision import transforms\n",
    "from pycocotools.coco import COCO\n",
    "from collections import Counter\n",
    "from PIL import Image\n",
    "from tqdm import tqdm"
   ]
  },
  {
   "cell_type": "markdown",
   "metadata": {},
   "source": [
    "# Global definitions\n",
    "Note that filenames will depend on the model and must be changed if you don't want to overwrite an existing log file or encoder/decoder .pkl"
   ]
  },
  {
   "cell_type": "code",
   "execution_count": 52,
   "metadata": {},
   "outputs": [],
   "source": [
    "#nltk.download('punkt')\n",
    "device = torch.device(\"cuda\" if torch.cuda.is_available() else \"cpu\")\n",
    "\n",
    "#dataloader, encoder, and decoder settings\n",
    "batch_size = 64          # batch size\n",
    "vocab_threshold = 5        # minimum word count threshold\n",
    "vocab_from_file = True    # if True, load existing vocab file\n",
    "embed_size = 300           # dimensionality of image and word embeddings\n",
    "hidden_size = 512          # number of features in hidden state of the RNN decoder\n",
    "\n",
    "#training loop\n",
    "num_epochs = 3             # number of training epochs\n",
    "save_every = 1             # determines frequency of saving model weights\n",
    "print_every = 100          # determines window for printing average loss\n",
    "\n",
    "#BE SURE TO CHANGE THESE FILENAMES IF YOU CHANGE THE CNN\n",
    "log_file = 'training_log_model0vgg16.txt'       # name of file with saved training loss and perplexity\n",
    "loss_file = \"vgg13losses.txt\"\n",
    "perplexity_file = \"vgg13perplexities.txt\"\n",
    "\n",
    "#Specify the saved models to load.\n",
    "encoder_file = 'vgg13encoder-3.pkl'\n",
    "decoder_file = 'vgg13decoder-3.pkl'"
   ]
  },
  {
   "cell_type": "markdown",
   "metadata": {},
   "source": [
    "# Encoder/Decoder definitions\n",
    "This model uses resnet50 as the encoder and an RNN with LSTM as the decoder."
   ]
  },
  {
   "cell_type": "code",
   "execution_count": 53,
   "metadata": {
    "id": "Qn81ycM3c4_E"
   },
   "outputs": [],
   "source": [
    "class EncoderCNN(nn.Module):\n",
    "    def __init__(self, embed_size):\n",
    "        super(EncoderCNN, self).__init__()\n",
    "        resnet = models.vgg13(pretrained=True)\n",
    "        \n",
    "        #print(resnet)\n",
    "        \n",
    "        for param in resnet.parameters():\n",
    "            param.requires_grad_(False)\n",
    "        #resnet.classifier[6] = nn.Linear(512,embed_size)\n",
    "        modules = list(resnet.children())[:-1]\n",
    "        #remove avgpooling\n",
    "        modules = nn.Sequential(*list(resnet.features._modules.values())[:-1])\n",
    "        vggpooling = nn.AdaptiveAvgPool2d(output_size=(1, 1))\n",
    "        \n",
    "        self.resnet = nn.Sequential(*modules, vggpooling)\n",
    "                                       \n",
    "        #print(self.resnet)                               \n",
    "                                       \n",
    "        #self.embed = nn.Linear(resnet.classifier[6].in_features, embed_size)\n",
    "        self.embed = nn.Linear(512, embed_size)\n",
    "    def forward(self, images):\n",
    "        #print(\"resnet: \", self.resnet)\n",
    "        features = self.resnet(images)\n",
    "        #print(\"out of resnet: \", features.shape)\n",
    "        features = features.view(features.size(0), -1)\n",
    "        #print(\"out of view: \", features.shape)\n",
    "        features = self.embed(features)\n",
    "        #print(\"forward output shape: \", features.shape)\n",
    "        return features\n",
    "    \n",
    "\n",
    "class DecoderRNN(nn.Module):\n",
    "    def __init__(self, embed_size, hidden_size, vocab_size, num_layers=1):\n",
    "        super().__init__()\n",
    "        self.embedding_layer = nn.Embedding(vocab_size, embed_size)\n",
    "        \n",
    "        self.lstm = nn.LSTM(input_size = embed_size,hidden_size = hidden_size,\n",
    "                            num_layers = num_layers, batch_first = True)\n",
    "        \n",
    "        self.linear = nn.Linear(hidden_size, vocab_size)\n",
    "    \n",
    "    def forward(self, features, captions):\n",
    "        captions = captions[:, :-1]\n",
    "        embed = self.embedding_layer(captions)\n",
    "        embed = torch.cat((features.unsqueeze(1), embed), dim = 1)\n",
    "        lstm_outputs, _ = self.lstm(embed)\n",
    "        out = self.linear(lstm_outputs)\n",
    "        \n",
    "        return out\n",
    "\n",
    "    def sample(self, inputs, states=None, max_len=20):\n",
    "        \" accepts pre-processed image tensor (inputs) and returns predicted sentence (list of tensor ids of length max_len) \"\n",
    "        output_sentence = []\n",
    "        for i in range(max_len):\n",
    "            lstm_outputs, states = self.lstm(inputs, states)\n",
    "            lstm_outputs = lstm_outputs.squeeze(1)\n",
    "            out = self.linear(lstm_outputs)\n",
    "            last_pick = out.max(1)[1]\n",
    "            output_sentence.append(last_pick.item())\n",
    "            inputs = self.embedding_layer(last_pick).unsqueeze(1)\n",
    "        \n",
    "        return output_sentence"
   ]
  },
  {
   "cell_type": "markdown",
   "metadata": {
    "id": "VYvddgbxzMga"
   },
   "source": [
    "# Dataset and Vocabulary classes\n",
    "Uses COCO dataset."
   ]
  },
  {
   "cell_type": "code",
   "execution_count": 54,
   "metadata": {
    "id": "-h62qULznoHH"
   },
   "outputs": [],
   "source": [
    "class CoCoDataset(data.Dataset):\n",
    "    \n",
    "    def __init__(self, transform, mode, batch_size, vocab_threshold, vocab_file, start_word, \n",
    "        end_word, unk_word, annotations_file, vocab_from_file, img_folder):\n",
    "        self.transform = transform\n",
    "        self.mode = mode\n",
    "        self.batch_size = batch_size\n",
    "        self.vocab = Vocabulary(vocab_threshold, vocab_file, start_word,\n",
    "            end_word, unk_word, annotations_file, vocab_from_file)\n",
    "        self.img_folder = img_folder\n",
    "        if self.mode == 'train' or self.mode == 'val':\n",
    "            self.coco = COCO(annotations_file)\n",
    "            self.ids = list(self.coco.anns.keys())\n",
    "            print('Obtaining caption lengths...')\n",
    "            all_tokens = [nltk.tokenize.word_tokenize(str(self.coco.anns[self.ids[index]]['caption']).lower()) for index in tqdm(np.arange(len(self.ids)))]\n",
    "            self.caption_lengths = [len(token) for token in all_tokens]\n",
    "        else:\n",
    "            test_info = json.loads(open(annotations_file).read())\n",
    "            self.paths = [item['file_name'] for item in test_info['images']]\n",
    "        \n",
    "    def __getitem__(self, index):\n",
    "        # obtain image and caption if in training mode\n",
    "        if self.mode == 'train' or self.mode == 'val':\n",
    "            ann_id = self.ids[index]\n",
    "            caption = self.coco.anns[ann_id]['caption']\n",
    "            img_id = self.coco.anns[ann_id]['image_id']\n",
    "            path = self.coco.loadImgs(img_id)[0]['file_name']\n",
    "\n",
    "            # Convert image to tensor and pre-process using transform\n",
    "            image = Image.open(os.path.join(self.img_folder, path)).convert('RGB')\n",
    "            image = self.transform(image)\n",
    "\n",
    "            # Convert caption to tensor of word ids.\n",
    "            tokens = nltk.tokenize.word_tokenize(str(caption).lower())\n",
    "            caption = []\n",
    "            caption.append(self.vocab(self.vocab.start_word))\n",
    "            caption.extend([self.vocab(token) for token in tokens])\n",
    "            caption.append(self.vocab(self.vocab.end_word))\n",
    "            caption = torch.Tensor(caption).long()\n",
    "\n",
    "            # return pre-processed image and caption tensors\n",
    "            return image, caption\n",
    "\n",
    "        # obtain image if in test mode\n",
    "        else:\n",
    "            path = self.paths[index]\n",
    "\n",
    "            # Convert image to tensor and pre-process using transform\n",
    "            PIL_image = Image.open(os.path.join(self.img_folder, path)).convert('RGB')\n",
    "            orig_image = np.array(PIL_image)\n",
    "            image = self.transform(PIL_image)\n",
    "\n",
    "            # return original image and pre-processed image tensor\n",
    "            return orig_image, image\n",
    "\n",
    "    def get_train_indices(self):\n",
    "        sel_length = np.random.choice(self.caption_lengths)\n",
    "        all_indices = np.where([self.caption_lengths[i] == sel_length for i in np.arange(len(self.caption_lengths))])[0]\n",
    "        indices = list(np.random.choice(all_indices, size=self.batch_size))\n",
    "        return indices\n",
    "\n",
    "    def __len__(self):\n",
    "        if self.mode == 'train' or self.mode == 'val':\n",
    "            return len(self.ids)\n",
    "        else:\n",
    "            return len(self.paths)\n",
    "\n",
    "class Vocabulary(object):\n",
    "\n",
    "    def __init__(self,\n",
    "        vocab_threshold,\n",
    "        vocab_file='./vocab.pkl',\n",
    "        start_word=\"<start>\",\n",
    "        end_word=\"<end>\",\n",
    "        unk_word=\"<unk>\",\n",
    "        annotations_file='annotations/captions_train2014.json',\n",
    "        vocab_from_file=False):\n",
    "        \"\"\"Initialize the vocabulary.\n",
    "        Args:\n",
    "          vocab_threshold: Minimum word count threshold.\n",
    "          vocab_file: File containing the vocabulary.\n",
    "          start_word: Special word denoting sentence start.\n",
    "          end_word: Special word denoting sentence end.\n",
    "          unk_word: Special word denoting unknown words.\n",
    "          annotations_file: Path for train annotation file.\n",
    "          vocab_from_file: If False, create vocab from scratch & override any existing vocab_file\n",
    "                           If True, load vocab from from existing vocab_file, if it exists\n",
    "        \"\"\"\n",
    "        self.vocab_threshold = vocab_threshold\n",
    "        self.vocab_file = vocab_file\n",
    "        self.start_word = start_word\n",
    "        self.end_word = end_word\n",
    "        self.unk_word = unk_word\n",
    "        self.annotations_file = annotations_file\n",
    "        self.vocab_from_file = vocab_from_file\n",
    "        self.get_vocab()\n",
    "\n",
    "    def get_vocab(self):\n",
    "        \"\"\"Load the vocabulary from file OR build the vocabulary from scratch.\"\"\"\n",
    "        if os.path.exists(self.vocab_file) & self.vocab_from_file:\n",
    "            with open(self.vocab_file, 'rb') as f:\n",
    "                vocab = pickle.load(f)\n",
    "                self.word2idx = vocab.word2idx\n",
    "                self.idx2word = vocab.idx2word\n",
    "            print('Vocabulary successfully loaded from vocab.pkl file!')\n",
    "        else:\n",
    "            self.build_vocab()\n",
    "            with open(self.vocab_file, 'wb') as f:\n",
    "                pickle.dump(self, f)\n",
    "        \n",
    "    def build_vocab(self):\n",
    "        \"\"\"Populate the dictionaries for converting tokens to integers (and vice-versa).\"\"\"\n",
    "        self.init_vocab()\n",
    "        self.add_word(self.start_word)\n",
    "        self.add_word(self.end_word)\n",
    "        self.add_word(self.unk_word)\n",
    "        self.add_captions()\n",
    "\n",
    "    def init_vocab(self):\n",
    "        \"\"\"Initialize the dictionaries for converting tokens to integers (and vice-versa).\"\"\"\n",
    "        self.word2idx = {}\n",
    "        self.idx2word = {}\n",
    "        self.idx = 0\n",
    "\n",
    "    def add_word(self, word):\n",
    "        \"\"\"Add a token to the vocabulary.\"\"\"\n",
    "        if not word in self.word2idx:\n",
    "            self.word2idx[word] = self.idx\n",
    "            self.idx2word[self.idx] = word\n",
    "            self.idx += 1\n",
    "\n",
    "    def add_captions(self):\n",
    "        \"\"\"Loop over training captions and add all tokens to the vocabulary that meet or exceed the threshold.\"\"\"\n",
    "        coco = COCO(self.annotations_file)\n",
    "        counter = Counter()\n",
    "        ids = coco.anns.keys()\n",
    "        for i, id in enumerate(ids):\n",
    "            caption = str(coco.anns[id]['caption'])\n",
    "            tokens = nltk.tokenize.word_tokenize(caption.lower())\n",
    "            counter.update(tokens)\n",
    "\n",
    "            if i % 100000 == 0:\n",
    "                print(\"[%d/%d] Tokenizing captions...\" % (i, len(ids)))\n",
    "\n",
    "        words = [word for word, cnt in counter.items() if cnt >= self.vocab_threshold]\n",
    "\n",
    "        for i, word in enumerate(words):\n",
    "            self.add_word(word)\n",
    "\n",
    "    def __call__(self, word):\n",
    "        if not word in self.word2idx:\n",
    "            return self.word2idx[self.unk_word]\n",
    "        return self.word2idx[word]\n",
    "\n",
    "    def __len__(self):\n",
    "        return len(self.word2idx)"
   ]
  },
  {
   "cell_type": "markdown",
   "metadata": {
    "id": "kZn24O1XzYKK"
   },
   "source": [
    "# Define dataloader modes"
   ]
  },
  {
   "cell_type": "code",
   "execution_count": 55,
   "metadata": {},
   "outputs": [],
   "source": [
    "def get_loader(transform,\n",
    "               mode='train',\n",
    "               batch_size=1,\n",
    "               vocab_threshold=None,\n",
    "               vocab_file='./vocab.pkl',\n",
    "               start_word=\"<start>\",\n",
    "               end_word=\"<end>\",\n",
    "               unk_word=\"<unk>\",\n",
    "               vocab_from_file=True,\n",
    "               num_workers=0,\n",
    "               cocoapi_loc=''):\n",
    "    \"\"\"Returns the data loader.\n",
    "    Args:\n",
    "      transform: Image transform.\n",
    "      mode: One of 'train' or 'test'.\n",
    "      batch_size: Batch size (if in testing mode, must have batch_size=1).\n",
    "      vocab_threshold: Minimum word count threshold.\n",
    "      vocab_file: File containing the vocabulary. \n",
    "      start_word: Special word denoting sentence start.\n",
    "      end_word: Special word denoting sentence end.\n",
    "      unk_word: Special word denoting unknown words.\n",
    "      vocab_from_file: If False, create vocab from scratch & override any existing vocab_file.\n",
    "                       If True, load vocab from from existing vocab_file, if it exists.\n",
    "      num_workers: Number of subprocesses to use for data loading \n",
    "      cocoapi_loc: The location of the folder containing the COCO API: https://github.com/cocodataset/cocoapi\n",
    "    \"\"\"\n",
    "    \n",
    "    assert mode in ['train', 'val', 'test'], \"mode must be one of 'train' or 'test'.\"\n",
    "    #if vocab_from_file==False: assert mode=='train', \"To generate vocab from captions file, must be in training mode (mode='train').\"\n",
    "\n",
    "    # Based on mode (train, val, test), obtain img_folder and annotations_file.\n",
    "    if mode == 'train':\n",
    "        if vocab_from_file==True: assert os.path.exists(vocab_file), \"vocab_file does not exist.  Change vocab_from_file to False to create vocab_file.\"\n",
    "        img_folder = os.path.join(cocoapi_loc, 'images/train2014/')\n",
    "        annotations_file = os.path.join(cocoapi_loc, 'annotations/captions_train2014.json')\n",
    "    if mode == 'test':\n",
    "        assert batch_size==1, \"Please change batch_size to 1 if testing your model.\"\n",
    "        assert os.path.exists(vocab_file), \"Must first generate vocab.pkl from training data.\"\n",
    "        assert vocab_from_file==True, \"Change vocab_from_file to True.\"\n",
    "        img_folder = os.path.join(cocoapi_loc, 'images/test2014/')\n",
    "        annotations_file = os.path.join(cocoapi_loc, 'annotations/image_info_test2014.json')\n",
    "    if mode == 'val':\n",
    "        if vocab_from_file==True: assert os.path.exists(vocab_file), \"vocab_file does not exist.  Change vocab_from_file to False to create vocab_file.\"\n",
    "        img_folder = os.path.join(cocoapi_loc, 'images/val2014/')\n",
    "        annotations_file = os.path.join(cocoapi_loc, 'annotations/captions_val2014.json')\n",
    "\n",
    "    # COCO caption dataset.\n",
    "    dataset = CoCoDataset(transform=transform,\n",
    "                          mode=mode,\n",
    "                          batch_size=batch_size,\n",
    "                          vocab_threshold=vocab_threshold,\n",
    "                          vocab_file=vocab_file,\n",
    "                          start_word=start_word,\n",
    "                          end_word=end_word,\n",
    "                          unk_word=unk_word,\n",
    "                          annotations_file=annotations_file,\n",
    "                          vocab_from_file=vocab_from_file,\n",
    "                          img_folder=img_folder)\n",
    "\n",
    "    if mode == 'train' or mode == 'val':\n",
    "        # Randomly sample a caption length, and sample indices with that length.\n",
    "        indices = dataset.get_train_indices()\n",
    "        # Create and assign a batch sampler to retrieve a batch with the sampled indices.\n",
    "        initial_sampler = data.sampler.SubsetRandomSampler(indices=indices)\n",
    "        # data loader for COCO dataset.\n",
    "        data_loader = data.DataLoader(dataset=dataset, \n",
    "                                      num_workers=num_workers,\n",
    "                                      batch_sampler=data.sampler.BatchSampler(sampler=initial_sampler,\n",
    "                                                                              batch_size=dataset.batch_size,\n",
    "                                                                              drop_last=False))\n",
    "    else:\n",
    "        data_loader = data.DataLoader(dataset=dataset,\n",
    "                                      batch_size=dataset.batch_size,\n",
    "                                      shuffle=True,\n",
    "                                      num_workers=num_workers)\n",
    "\n",
    "    return data_loader"
   ]
  },
  {
   "cell_type": "markdown",
   "metadata": {},
   "source": [
    "# Training\n",
    "## Define training dataloader\n",
    "* define a transform to pre-process the training images\n",
    "* initialize a training dataloader"
   ]
  },
  {
   "cell_type": "code",
   "execution_count": 56,
   "metadata": {
    "colab": {
     "base_uri": "https://localhost:8080/"
    },
    "id": "iFdg6DZmB84N",
    "outputId": "785c814a-55e1-4207-d1f6-cbbf51ff1804"
   },
   "outputs": [
    {
     "name": "stdout",
     "output_type": "stream",
     "text": [
      "loading annotations into memory...\n",
      "Done (t=0.63s)\n",
      "creating index...\n",
      "index created!\n",
      "[0/414113] Tokenizing captions...\n",
      "[100000/414113] Tokenizing captions...\n",
      "[200000/414113] Tokenizing captions...\n",
      "[300000/414113] Tokenizing captions...\n",
      "[400000/414113] Tokenizing captions...\n",
      "loading annotations into memory...\n",
      "Done (t=0.61s)\n",
      "creating index...\n"
     ]
    },
    {
     "name": "stderr",
     "output_type": "stream",
     "text": [
      "  0%|          | 875/414113 [00:00<00:47, 8747.07it/s]"
     ]
    },
    {
     "name": "stdout",
     "output_type": "stream",
     "text": [
      "index created!\n",
      "Obtaining caption lengths...\n"
     ]
    },
    {
     "name": "stderr",
     "output_type": "stream",
     "text": [
      "100%|██████████| 414113/414113 [00:47<00:00, 8670.56it/s]\n"
     ]
    }
   ],
   "source": [
    "# Define a transform to pre-process the training images.\n",
    "transform_train = transforms.Compose([ \n",
    "    transforms.Resize(256),                          # smaller edge of image resized to 256\n",
    "    transforms.RandomCrop(224),                      # get 224x224 crop from random location\n",
    "    transforms.RandomHorizontalFlip(),               # horizontally flip image with probability=0.5\n",
    "    transforms.ToTensor(),                           # convert the PIL Image to a tensor\n",
    "    transforms.Normalize((0.485, 0.456, 0.406),      # normalize image for pre-trained model\n",
    "                         (0.229, 0.224, 0.225))])\n",
    "\n",
    "# Obtain the training loader.\n",
    "train_loader = get_loader(transform=transform_train,\n",
    "                         mode='train',\n",
    "                         batch_size=batch_size,\n",
    "                         vocab_threshold=vocab_threshold,\n",
    "                         vocab_from_file=False)\n",
    "\n",
    "# Store the size of the vocabulary.\n",
    "vocab_size = len(train_loader.dataset.vocab)"
   ]
  },
  {
   "cell_type": "markdown",
   "metadata": {},
   "source": [
    "## Initialize encoder and decoder"
   ]
  },
  {
   "cell_type": "code",
   "execution_count": 57,
   "metadata": {
    "colab": {
     "base_uri": "https://localhost:8080/",
     "height": 117,
     "referenced_widgets": [
      "9a9260a86167496ebba04c1a1def834e",
      "3d12a3efc75342f6a316e57bbb055259",
      "dea161f5239443ad9ff5e9011de6a5db",
      "fc2e24ea8bb54c3183e88e6c77c9ed41",
      "187efbfeefe642a5b6db8a3330faa718",
      "bf5a193c0297497d8833d16de0dfa75c",
      "f56d414fb2ce4cc3b4474a2586deb1bd",
      "8da6aba469b749f2ab8cdf0ae28fd54d"
     ]
    },
    "id": "K-ijOTFDR0aa",
    "outputId": "63a1f9da-8484-4d2b-d608-f24f5241424c"
   },
   "outputs": [
    {
     "name": "stderr",
     "output_type": "stream",
     "text": [
      "Downloading: \"https://download.pytorch.org/models/vgg13-c768596a.pth\" to /usr4/ec500/brianxu/.cache/torch/hub/checkpoints/vgg13-c768596a.pth\n"
     ]
    },
    {
     "data": {
      "application/vnd.jupyter.widget-view+json": {
       "model_id": "7d93ae18a068485b834b4b86ddf8c649",
       "version_major": 2,
       "version_minor": 0
      },
      "text/plain": [
       "HBox(children=(FloatProgress(value=0.0, max=532194478.0), HTML(value='')))"
      ]
     },
     "metadata": {},
     "output_type": "display_data"
    },
    {
     "name": "stdout",
     "output_type": "stream",
     "text": [
      "\n"
     ]
    },
    {
     "data": {
      "text/plain": [
       "EncoderCNN(\n",
       "  (resnet): Sequential(\n",
       "    (0): Conv2d(3, 64, kernel_size=(3, 3), stride=(1, 1), padding=(1, 1))\n",
       "    (1): ReLU(inplace=True)\n",
       "    (2): Conv2d(64, 64, kernel_size=(3, 3), stride=(1, 1), padding=(1, 1))\n",
       "    (3): ReLU(inplace=True)\n",
       "    (4): MaxPool2d(kernel_size=2, stride=2, padding=0, dilation=1, ceil_mode=False)\n",
       "    (5): Conv2d(64, 128, kernel_size=(3, 3), stride=(1, 1), padding=(1, 1))\n",
       "    (6): ReLU(inplace=True)\n",
       "    (7): Conv2d(128, 128, kernel_size=(3, 3), stride=(1, 1), padding=(1, 1))\n",
       "    (8): ReLU(inplace=True)\n",
       "    (9): MaxPool2d(kernel_size=2, stride=2, padding=0, dilation=1, ceil_mode=False)\n",
       "    (10): Conv2d(128, 256, kernel_size=(3, 3), stride=(1, 1), padding=(1, 1))\n",
       "    (11): ReLU(inplace=True)\n",
       "    (12): Conv2d(256, 256, kernel_size=(3, 3), stride=(1, 1), padding=(1, 1))\n",
       "    (13): ReLU(inplace=True)\n",
       "    (14): MaxPool2d(kernel_size=2, stride=2, padding=0, dilation=1, ceil_mode=False)\n",
       "    (15): Conv2d(256, 512, kernel_size=(3, 3), stride=(1, 1), padding=(1, 1))\n",
       "    (16): ReLU(inplace=True)\n",
       "    (17): Conv2d(512, 512, kernel_size=(3, 3), stride=(1, 1), padding=(1, 1))\n",
       "    (18): ReLU(inplace=True)\n",
       "    (19): MaxPool2d(kernel_size=2, stride=2, padding=0, dilation=1, ceil_mode=False)\n",
       "    (20): Conv2d(512, 512, kernel_size=(3, 3), stride=(1, 1), padding=(1, 1))\n",
       "    (21): ReLU(inplace=True)\n",
       "    (22): Conv2d(512, 512, kernel_size=(3, 3), stride=(1, 1), padding=(1, 1))\n",
       "    (23): ReLU(inplace=True)\n",
       "    (24): AdaptiveAvgPool2d(output_size=(1, 1))\n",
       "  )\n",
       "  (embed): Linear(in_features=512, out_features=300, bias=True)\n",
       ")"
      ]
     },
     "execution_count": 57,
     "metadata": {},
     "output_type": "execute_result"
    }
   ],
   "source": [
    "# Initialize the encoder and move to device\n",
    "encoder = EncoderCNN(embed_size)\n",
    "encoder.to(device)"
   ]
  },
  {
   "cell_type": "code",
   "execution_count": 58,
   "metadata": {
    "colab": {
     "base_uri": "https://localhost:8080/"
    },
    "id": "EnoBqgsNSOw4",
    "outputId": "2c73ea9c-597d-4f97-e2d0-6b8a6fe3ffec"
   },
   "outputs": [
    {
     "data": {
      "text/plain": [
       "DecoderRNN(\n",
       "  (embedding_layer): Embedding(8852, 300)\n",
       "  (lstm): LSTM(300, 512, batch_first=True)\n",
       "  (linear): Linear(in_features=512, out_features=8852, bias=True)\n",
       ")"
      ]
     },
     "execution_count": 58,
     "metadata": {},
     "output_type": "execute_result"
    }
   ],
   "source": [
    "# Initialize the decoder and move to device\n",
    "decoder = DecoderRNN(embed_size, hidden_size, vocab_size)\n",
    "decoder.to(device)"
   ]
  },
  {
   "cell_type": "markdown",
   "metadata": {},
   "source": [
    "### Trainloader/Encoder/Decoder debugging"
   ]
  },
  {
   "cell_type": "code",
   "execution_count": 59,
   "metadata": {},
   "outputs": [
    {
     "name": "stdout",
     "output_type": "stream",
     "text": [
      "sampled indices: [272654, 287666, 235341, 38172, 231039, 46890, 131941, 440, 20227, 362842, 45685, 101515, 45717, 171251, 61618, 115499, 230863, 136484, 219458, 71264, 189236, 31775, 239520, 314780, 87037, 244848, 157291, 235515, 175015, 234720, 243626, 145657, 194378, 25574, 31954, 245847, 260406, 314658, 214422, 357395, 299289, 27792, 217669, 186478, 100499, 88364, 80944, 12915, 190504, 263814, 388905, 324253, 99184, 250340, 139277, 192789, 356087, 112136, 137502, 275603, 317676, 299511, 221645, 221988]\n",
      "images.type: torch.cuda.FloatTensor\n",
      "images.shape: torch.Size([64, 3, 224, 224])\n",
      "captions.type: torch.cuda.LongTensor\n",
      "captions.shape: torch.Size([64, 12])\n"
     ]
    }
   ],
   "source": [
    "# Randomly sample a caption length, and sample indices with that length.\n",
    "indices = train_loader.dataset.get_train_indices()\n",
    "print('sampled indices:', indices)\n",
    "\n",
    "# Create and assign a batch sampler to retrieve a batch with the sampled indices.\n",
    "new_sampler = data.sampler.SubsetRandomSampler(indices=indices)\n",
    "train_loader.batch_sampler.sampler = new_sampler\n",
    "    \n",
    "# Obtain the batch.\n",
    "images, captions = next(iter(train_loader))\n",
    "images = images.to(device)\n",
    "captions = captions.to(device)\n",
    "    \n",
    "print('images.type:',images.type())    \n",
    "print('images.shape:', images.shape)\n",
    "print('captions.type:', captions.type())\n",
    "print('captions.shape:', captions.shape)\n",
    "\n",
    "# (Optional) Uncomment the lines of code below to print the pre-processed images and captions.\n",
    "#print('images:', images)\n",
    "#print('captions:', captions)"
   ]
  },
  {
   "cell_type": "code",
   "execution_count": 60,
   "metadata": {},
   "outputs": [
    {
     "name": "stdout",
     "output_type": "stream",
     "text": [
      "type(features): <class 'torch.Tensor'>\n",
      "features.shape: torch.Size([64, 300])\n"
     ]
    }
   ],
   "source": [
    "# Pass the images through the encoder.\n",
    "features = encoder(images)\n",
    "\n",
    "#check feature type and shape\n",
    "print('type(features):', type(features))\n",
    "print('features.shape:', features.shape)\n",
    "\n",
    "assert type(features)==torch.Tensor, \"Encoder output needs to be a PyTorch Tensor.\" \n",
    "assert (features.shape[0]==batch_size) & (features.shape[1]==embed_size), \"The shape of the encoder output is incorrect.\""
   ]
  },
  {
   "cell_type": "code",
   "execution_count": 61,
   "metadata": {},
   "outputs": [
    {
     "name": "stdout",
     "output_type": "stream",
     "text": [
      "type(outputs): <class 'torch.Tensor'>\n",
      "outputs.shape: torch.Size([64, 12, 8852])\n",
      "features:  torch.Size([64, 300])\n",
      "captions:  torch.Size([64, 12])\n"
     ]
    }
   ],
   "source": [
    "# Pass the encoder output and captions through the decoder.\n",
    "outputs = decoder(features, captions)\n",
    "\n",
    "print('type(outputs):', type(outputs))\n",
    "print('outputs.shape:', outputs.shape)\n",
    "print(\"features: \", features.shape)\n",
    "print(\"captions: \", captions.shape)\n",
    "\n",
    "assert type(outputs)==torch.Tensor, \"Decoder output needs to be a PyTorch Tensor.\"\n",
    "assert (outputs.shape[0]==batch_size) & (outputs.shape[1]==captions.shape[1]) & (outputs.shape[2]==vocab_size), \"The shape of the decoder output is incorrect.\""
   ]
  },
  {
   "cell_type": "markdown",
   "metadata": {},
   "source": [
    "## Define loss, optimizer, steps\n",
    "\n",
    "Loss: Cross Entropy\n",
    "Optimizer: Adam, lr = 0.001"
   ]
  },
  {
   "cell_type": "code",
   "execution_count": 62,
   "metadata": {
    "colab": {
     "base_uri": "https://localhost:8080/"
    },
    "id": "8OUcn19bSekJ",
    "outputId": "2dd3afba-536f-4e99-a80c-e2a40ced28f7"
   },
   "outputs": [],
   "source": [
    "# Define the loss function. \n",
    "criterion = nn.CrossEntropyLoss().cuda() if torch.cuda.is_available() else nn.CrossEntropyLoss()\n",
    "\n",
    "# Specify the learnable parameters of the model.\n",
    "params = list(decoder.parameters()) + list(encoder.embed.parameters())\n",
    "\n",
    "# Define the optimizer.\n",
    "optimizer = torch.optim.Adam(params = params, lr = 0.001)\n",
    "\n",
    "# Set the total number of training steps per epoch.\n",
    "total_step = math.ceil(len(train_loader.dataset.caption_lengths) / train_loader.batch_sampler.batch_size)"
   ]
  },
  {
   "cell_type": "markdown",
   "metadata": {},
   "source": [
    "## TRAIN (THIS CELL WILL TAKE A LONG TIME)"
   ]
  },
  {
   "cell_type": "code",
   "execution_count": null,
   "metadata": {
    "colab": {
     "base_uri": "https://localhost:8080/"
    },
    "id": "dpCY0I3lTQEK",
    "outputId": "74e52363-2e23-460c-bcb8-c0348404b668"
   },
   "outputs": [
    {
     "name": "stdout",
     "output_type": "stream",
     "text": [
      "Epoch [1/3], Step [100/6471], Loss: 3.8945, Perplexity: 49.1303\n",
      "Epoch [1/3], Step [100/6471], Loss: 3.8945, Perplexity: 49.1303\n",
      "Epoch [1/3], Step [115/6471], Loss: 3.8505, Perplexity: 47.0158"
     ]
    }
   ],
   "source": [
    "# Open the training log file.\n",
    "f = open(log_file, 'w')\n",
    "\n",
    "losses = []\n",
    "perplexities = []\n",
    "\n",
    "for epoch in range(1, num_epochs+1):\n",
    "    \n",
    "    for i_step in range(1, total_step+1):        \n",
    "        # Randomly sample a caption length, and sample indices with that length.\n",
    "        indices = train_loader.dataset.get_train_indices()\n",
    "        \n",
    "        # Create and assign a batch sampler to retrieve a batch with the sampled indices.\n",
    "        new_sampler = data.sampler.SubsetRandomSampler(indices=indices)\n",
    "        train_loader.batch_sampler.sampler = new_sampler\n",
    "        \n",
    "        # Obtain the batch.\n",
    "        images, captions = next(iter(train_loader))\n",
    "\n",
    "        # Move batch of images and captions to GPU if CUDA is available.\n",
    "        images = images.to(device)\n",
    "        captions = captions.to(device)\n",
    "        \n",
    "        # Zero the gradients.\n",
    "        decoder.zero_grad()\n",
    "        encoder.zero_grad()\n",
    "        \n",
    "        # Pass the inputs through the CNN-RNN model.\n",
    "        features = encoder(images)\n",
    "        outputs = decoder(features, captions)\n",
    "        \n",
    "        # Calculate the batch loss.\n",
    "        loss = criterion(outputs.view(-1, vocab_size), captions.view(-1))\n",
    "        if i_step % 100 == 0:\n",
    "            losses.append(loss)\n",
    "            perplexities.append(np.exp(loss.item()))\n",
    "        \n",
    "        # Backward pass.\n",
    "        loss.backward()\n",
    "        \n",
    "        # Update the parameters in the optimizer.\n",
    "        optimizer.step()\n",
    "            \n",
    "        # Get training statistics.\n",
    "        stats = 'Epoch [%d/%d], Step [%d/%d], Loss: %.4f, Perplexity: %5.4f' % (epoch, num_epochs, i_step, total_step, loss.item(), np.exp(loss.item()))\n",
    "        \n",
    "        # Print training statistics (on same line).\n",
    "        print(\"\\r\" + stats, end=\"\")\n",
    "        sys.stdout.flush()\n",
    "        \n",
    "        # Print training statistics to file.\n",
    "        f.write(stats + '\\n')\n",
    "        f.flush()\n",
    "        \n",
    "        # Print training statistics (on different line).\n",
    "        if i_step % print_every == 0:\n",
    "            print(\"\\n\" + stats, end=\"\\n\")\n",
    "            \n",
    "    # Save the weights.\n",
    "    if epoch % save_every == 0:\n",
    "        torch.save(decoder.state_dict(), os.path.join('./models', 'decoder-%d.pkl' % epoch))\n",
    "        torch.save(encoder.state_dict(), os.path.join('./models', 'encoder-%d.pkl' % epoch))\n",
    "\n",
    "# Close the training log file.\n",
    "with open(loss_file, \"wb\") as buttz1:   #Pickling\n",
    "    pickle.dump(losses, buttz1)\n",
    "\n",
    "with open(perplexity_file, \"wb\") as buttz2:   #Pickling\n",
    "    pickle.dump(perplexities, buttz2)\n",
    "\n",
    "f.close()"
   ]
  },
  {
   "cell_type": "markdown",
   "metadata": {},
   "source": [
    "## Plot the loss and perplexity"
   ]
  },
  {
   "cell_type": "code",
   "execution_count": 63,
   "metadata": {},
   "outputs": [
    {
     "name": "stdout",
     "output_type": "stream",
     "text": [
      "Final loss: 2.12180233001709\n"
     ]
    },
    {
     "data": {
      "text/plain": [
       "[<matplotlib.lines.Line2D at 0x2b64ff5f3290>]"
      ]
     },
     "execution_count": 63,
     "metadata": {},
     "output_type": "execute_result"
    },
    {
     "data": {
      "image/png": "[encoded data removed]",
      "text/plain": [
       "<Figure size 432x288 with 1 Axes>"
      ]
     },
     "metadata": {
      "needs_background": "light"
     },
     "output_type": "display_data"
    }
   ],
   "source": [
    "with open(loss_file, 'rb') as ls:\n",
    "                los_ses = pickle.load(ls)\n",
    "print(\"Final loss:\", los_ses[-1].item())\n",
    "ploss=[i.item() for i in los_ses]\n",
    "plt.title('VGG13 + RNN')\n",
    "plt.plot(ploss)"
   ]
  },
  {
   "cell_type": "code",
   "execution_count": 64,
   "metadata": {},
   "outputs": [
    {
     "name": "stdout",
     "output_type": "stream",
     "text": [
      "Final perplexity: 8.346166486397664\n"
     ]
    },
    {
     "data": {
      "text/plain": [
       "[<matplotlib.lines.Line2D at 0x2b6512d42f90>]"
      ]
     },
     "execution_count": 64,
     "metadata": {},
     "output_type": "execute_result"
    },
    {
     "data": {
      "image/png": "[encoded data removed]",
      "text/plain": [
       "<Figure size 432x288 with 1 Axes>"
      ]
     },
     "metadata": {
      "needs_background": "light"
     },
     "output_type": "display_data"
    }
   ],
   "source": [
    "with open(perplexity_file, 'rb') as ps:\n",
    "                perplex_ses = pickle.load(ps)\n",
    "print(\"Final perplexity:\", perplex_ses[-1].item())\n",
    "plex=[i.item() for i in perplex_ses]\n",
    "plt.title('VGG13 + RNN Perplexities')\n",
    "plt.plot(plex)"
   ]
  },
  {
   "cell_type": "markdown",
   "metadata": {},
   "source": [
    "# Testing\n",
    "\n",
    "## Define testing dataloader\n",
    "* define a transform to pre-process the testing images\n",
    "* initialize a testing dataloader"
   ]
  },
  {
   "cell_type": "code",
   "execution_count": 65,
   "metadata": {
    "colab": {
     "base_uri": "https://localhost:8080/"
    },
    "id": "6y6OCxMKsJX9",
    "outputId": "8fd8aaee-a229-48e1-82f7-6b4a1c8eeb12"
   },
   "outputs": [
    {
     "name": "stdout",
     "output_type": "stream",
     "text": [
      "Vocabulary successfully loaded from vocab.pkl file!\n"
     ]
    }
   ],
   "source": [
    "# Define a transform to pre-process the testing images.\n",
    "transform_test = transforms.Compose([transforms.Resize(256),\n",
    "                                     transforms.CenterCrop(224),\n",
    "                                     transforms.ToTensor(),\n",
    "                                     transforms.Normalize((0.485, 0.456, 0.406),\n",
    "                                                          (0.229, 0.224, 0.225))\n",
    "                                    ])\n",
    "\n",
    "# Create the data loader.\n",
    "test_loader = get_loader(transform=transform_test,    \n",
    "                         mode='test')"
   ]
  },
  {
   "cell_type": "markdown",
   "metadata": {},
   "source": [
    "## Load pretrained model"
   ]
  },
  {
   "cell_type": "code",
   "execution_count": 66,
   "metadata": {
    "id": "uwYSz37AzRdl",
    "scrolled": true
   },
   "outputs": [
    {
     "data": {
      "text/plain": [
       "DecoderRNN(\n",
       "  (embedding_layer): Embedding(8852, 300)\n",
       "  (lstm): LSTM(300, 512, batch_first=True)\n",
       "  (linear): Linear(in_features=512, out_features=8852, bias=True)\n",
       ")"
      ]
     },
     "execution_count": 66,
     "metadata": {},
     "output_type": "execute_result"
    }
   ],
   "source": [
    "#Get vocabulary size\n",
    "vocab_size = len(test_loader.dataset.vocab)\n",
    "\n",
    "# Initialize the encoder and decoder, and set each to inference mode.\n",
    "encoder.eval()\n",
    "decoder = DecoderRNN(embed_size, hidden_size, vocab_size)\n",
    "decoder.eval()\n",
    "\n",
    "# Load the trained weights.\n",
    "encoder.load_state_dict(torch.load(os.path.join('./models', encoder_file)))\n",
    "decoder.load_state_dict(torch.load(os.path.join('./models', decoder_file)))\n",
    "#uncomment this if you aren't using a GPU\n",
    "#encoder.load_state_dict(torch.load(os.path.join('./models', encoder_file),map_location=torch.device('cpu')))\n",
    "#decoder.load_state_dict(torch.load(os.path.join('./models', decoder_file),map_location=torch.device('cpu')))\n",
    "\n",
    "encoder.to(device)\n",
    "decoder.to(device)"
   ]
  },
  {
   "cell_type": "markdown",
   "metadata": {},
   "source": [
    "## Display a single image + caption prediction"
   ]
  },
  {
   "cell_type": "code",
   "execution_count": 67,
   "metadata": {},
   "outputs": [],
   "source": [
    "def get_prediction(encoder, decoder, test_loader):\n",
    "    orig_image, image = next(iter(test_loader))\n",
    "    #print('orig_image ' , orig_image.shape)\n",
    "    print('image: ' , image.shape)\n",
    "    plt.imshow(np.squeeze(orig_image))\n",
    "    plt.title('Sample Image')\n",
    "    plt.show()\n",
    "    image = image.to(device)\n",
    "    features = encoder(image).unsqueeze(1)\n",
    "    output = decoder.sample(features)    \n",
    "    sentence = clean_sentence(output, test_loader)\n",
    "    print(sentence)\n",
    "\n",
    "def clean_sentence(output, data_loader):\n",
    "    words_sequence = []\n",
    "    for i in output:\n",
    "        if (i == 1):\n",
    "            continue\n",
    "        words_sequence.append(data_loader.dataset.vocab.idx2word[i])\n",
    "    words_sequence = words_sequence[1:-1] \n",
    "    sentence = ' '.join(words_sequence) \n",
    "    sentence = sentence.capitalize()    \n",
    "    return sentence"
   ]
  },
  {
   "cell_type": "code",
   "execution_count": 68,
   "metadata": {
    "colab": {
     "base_uri": "https://localhost:8080/",
     "height": 298
    },
    "id": "ww8VWlnr0Wz5",
    "outputId": "e0ff6eed-f10e-4b9a-9f92-2e589e43592a"
   },
   "outputs": [
    {
     "name": "stdout",
     "output_type": "stream",
     "text": [
      "image:  torch.Size([1, 3, 224, 224])\n"
     ]
    },
    {
     "data": {
      "image/png": "[encoded data removed]",
      "text/plain": [
       "<Figure size 432x288 with 1 Axes>"
      ]
     },
     "metadata": {
      "needs_background": "light"
     },
     "output_type": "display_data"
    },
    {
     "name": "stdout",
     "output_type": "stream",
     "text": [
      "A group of people standing around a table with food .\n"
     ]
    }
   ],
   "source": [
    "get_prediction(encoder, decoder, test_loader)"
   ]
  },
  {
   "cell_type": "markdown",
   "metadata": {},
   "source": [
    "## Calculate BLEU score\n",
    "Calculate the BLEU score of the model over the entire dataset by averaging the BLEU scores over several batches.\n",
    "\n",
    "### Define a data loader\n",
    "This data loader should return images and their corresponding ground-truth captions from the validation dataset."
   ]
  },
  {
   "cell_type": "code",
   "execution_count": 69,
   "metadata": {},
   "outputs": [
    {
     "name": "stdout",
     "output_type": "stream",
     "text": [
      "Vocabulary successfully loaded from vocab.pkl file!\n",
      "loading annotations into memory...\n"
     ]
    },
    {
     "name": "stderr",
     "output_type": "stream",
     "text": [
      "  0%|          | 790/202654 [00:00<00:25, 7899.05it/s]"
     ]
    },
    {
     "name": "stdout",
     "output_type": "stream",
     "text": [
      "Done (t=0.31s)\n",
      "creating index...\n",
      "index created!\n",
      "Obtaining caption lengths...\n"
     ]
    },
    {
     "name": "stderr",
     "output_type": "stream",
     "text": [
      "100%|██████████| 202654/202654 [00:23<00:00, 8665.56it/s]\n"
     ]
    }
   ],
   "source": [
    "transform_val = transforms.Compose([transforms.Resize(256),\n",
    "                                     transforms.CenterCrop(224),\n",
    "                                     transforms.ToTensor(),\n",
    "                                     transforms.Normalize((0.485, 0.456, 0.406),\n",
    "                                                          (0.229, 0.224, 0.225))\n",
    "                                    ])\n",
    "val_loader = get_loader(transform=transform_val,\n",
    "                         mode='val',batch_size=batch_size)"
   ]
  },
  {
   "cell_type": "markdown",
   "metadata": {},
   "source": [
    "### Define functions"
   ]
  },
  {
   "cell_type": "code",
   "execution_count": 70,
   "metadata": {},
   "outputs": [],
   "source": [
    "def clean_sentence_bleu(output, data_loader):\n",
    "    words_sequence = []\n",
    "    for i in output:\n",
    "        i = int(i)\n",
    "        if (i == 1):\n",
    "            continue\n",
    "        words_sequence.append(data_loader.dataset.vocab.idx2word[i])\n",
    "    words_sequence = words_sequence[1:-1] \n",
    "#   sentence = ' '.join(words_sequence) \n",
    "#   sentence = sentence.capitalize()    \n",
    "    return words_sequence\n",
    "\n",
    "def get_avg_bleu(encoder, decoder, dataloader, device):\n",
    "    '''Determine the average BLEU score across the entire dataset\n",
    "    '''\n",
    "    with torch.no_grad():\n",
    "        total_score1 = 0\n",
    "        total_score2 = 0\n",
    "        total_score3 = 0\n",
    "        total_score4 = 0\n",
    "        total_num = 0\n",
    "        for data in tqdm(dataloader):\n",
    "            torch.cuda.empty_cache()\n",
    "            print(\"STARTING NEW BATCH\")\n",
    "            #load images and reference captions from the dataset\n",
    "            images, captions_ref = data\n",
    "            images = images.to(device)\n",
    "            print('captions_ref: ',captions_ref.type())\n",
    "            # Get caption predictions for the current batch of validation images\n",
    "            captions_cand = get_batch_candidates(encoder, decoder, images)\n",
    "            \n",
    "            #calculate the bleu score for the entire batch\n",
    "            print(captions_ref.shape)\n",
    "            refs = []\n",
    "            cands = []\n",
    "            for captions in captions_ref:\n",
    "                #captions = captions.float()\n",
    "                #print(captions.type())\n",
    "                refs.append(clean_sentence_bleu(captions, dataloader))\n",
    "                \n",
    "            for captions_2 in captions_cand:\n",
    "                cands.append(clean_sentence_bleu(captions_2, dataloader))\n",
    "#             print(refs.size())\n",
    "#             print(cands.size())\n",
    "            #batch_score = get_batch_bleu(captions_ref, captions_cand)\n",
    "            batch_score1, batch_score2, batch_score3, batch_score4 = get_batch_bleu(refs, cands)\n",
    "            #increment total_score and total_num\n",
    "            total_score1 = total_score1 + batch_score1\n",
    "            total_score2 = total_score2 + batch_score2\n",
    "            total_score3 = total_score3 + batch_score3\n",
    "            total_score4 = total_score4 + batch_score4\n",
    "            \n",
    "            total_num = total_num + dataloader.dataset.batch_size\n",
    "        \n",
    "            \n",
    "            #print('Total Num: ',total_num)\n",
    "            \n",
    "        avg_score1 = total_score1/total_num\n",
    "        avg_score2 = total_score2/total_num\n",
    "        avg_score3 = total_score3/total_num\n",
    "        avg_score4 = total_score4/total_num\n",
    "        \n",
    "        return avg_score1, avg_score2, avg_score3, avg_score4\n",
    "\n",
    "def get_batch_candidates(encoder, decoder, images):\n",
    "    '''Gets predictions for the current batch of images\n",
    "    '''\n",
    "    with torch.no_grad():\n",
    "        captions_cand = []\n",
    "\n",
    "        features_batch = encoder(images).unsqueeze(1)\n",
    "\n",
    "        for features in features_batch:\n",
    "            new_cand = decoder.sample(features.unsqueeze(0))\n",
    "            captions_cand.append(new_cand)\n",
    "\n",
    "        return torch.Tensor(captions_cand)\n",
    "\n",
    "def get_batch_bleu(captions_ref, captions_cand):\n",
    "    '''Compute the total BLEU score over elements in a batch\n",
    "    '''\n",
    "    with torch.no_grad():\n",
    "        scores1 = 0\n",
    "        scores2 = 0\n",
    "        scores3 = 0\n",
    "        scores4 = 0\n",
    "        for i in range(len(captions_ref)):\n",
    "            #print(len(ref))\n",
    "            captions_cand[i] = [x for x in captions_cand[i] if x != '.']\n",
    "            print('captions_ref= ',captions_ref[i])\n",
    "            print('captions_cand= ',captions_cand[i])\n",
    "            scores1 += nltk.translate.bleu_score.sentence_bleu([captions_ref[i]], captions_cand[i], weights=(1, 0, 0, 0))\n",
    "            scores2 += nltk.translate.bleu_score.sentence_bleu([captions_ref[i]], captions_cand[i], weights=(0.5, 0.5, 0, 0))\n",
    "            scores3 += nltk.translate.bleu_score.sentence_bleu([captions_ref[i]], captions_cand[i], weights=(0.33, 0.33, 0.33, 0.33))\n",
    "            scores4 += nltk.translate.bleu_score.sentence_bleu([captions_ref[i]], captions_cand[i], weights=(0.25, 0.25, 0.25, 0.25))\n",
    "            print('Score : ',nltk.translate.bleu_score.sentence_bleu([captions_ref[i]], captions_cand[i],weights=(1, 0, 0, 0)))\n",
    "            print('Score : ',nltk.translate.bleu_score.sentence_bleu([captions_ref[i]], captions_cand[i],weights=(0.5, 0.5, 0, 0)))\n",
    "            print('Score : ',nltk.translate.bleu_score.sentence_bleu([captions_ref[i]], captions_cand[i],weights=(0.33, 0.33, 0.33, 0)))\n",
    "            print('Score : ',nltk.translate.bleu_score.sentence_bleu([captions_ref[i]], captions_cand[i],weights=(0.25, 0.25, 0.25, 0.25)))\n",
    "        return scores1, scores2, scores3, scores4"
   ]
  },
  {
   "cell_type": "markdown",
   "metadata": {},
   "source": [
    "### Calculate"
   ]
  },
  {
   "cell_type": "code",
   "execution_count": 71,
   "metadata": {},
   "outputs": [
    {
     "name": "stderr",
     "output_type": "stream",
     "text": [
      "\r",
      "  0%|          | 0/1 [00:00<?, ?it/s]"
     ]
    },
    {
     "name": "stdout",
     "output_type": "stream",
     "text": [
      "captions_ref:  torch.LongTensor\n"
     ]
    },
    {
     "name": "stderr",
     "output_type": "stream",
     "text": [
      "100%|██████████| 1/1 [00:02<00:00,  2.66s/it]"
     ]
    },
    {
     "name": "stdout",
     "output_type": "stream",
     "text": [
      "torch.Size([64, 11])\n",
      "captions_ref=  ['a', 'group', 'of', 'young', 'men', 'are', 'playing', 'soccer']\n",
      "captions_cand=  ['a', 'group', 'of', 'young', 'boys', 'playing', 'soccer', 'in', 'a', 'field']\n",
      "Score :  0.6\n",
      "Score :  0.5163977794943222\n",
      "Score :  0.4091569047284194\n",
      "Score :  0.31239399369202553\n",
      "captions_ref=  ['there', 'are', 'many', 'people', 'standing', 'together', 'y', 'a']\n",
      "captions_cand=  ['a', 'group', 'of', 'people', 'standing', 'around', 'a', 'table', 'with', 'umbrellas']\n",
      "Score :  0.3\n",
      "Score :  0.18257418583505533\n",
      "Score :  9.708980935455592e-103\n",
      "Score :  6.373704167435469e-155\n",
      "captions_ref=  ['a', 'sheep', 'stands', 'on', 'the', 'hillside', 'with', 'rocks']\n",
      "captions_cand=  ['a', 'brown', 'and', 'white', 'cow', 'standing', 'on', 'top', 'of', 'a', 'lush', 'green', 'field']\n",
      "Score :  0.15384615384615385\n",
      "Score :  5.850803834986753e-155\n",
      "Score :  4.7971789246899324e-204\n",
      "Score :  1.1409851298103347e-231\n",
      "captions_ref=  ['a', 'helicopter', 'is', 'flying', 'in', 'the', 'clear', 'sky']\n",
      "captions_cand=  ['a', 'group', 'of', 'people', 'flying', 'kites', 'in', 'a', 'field']\n",
      "Score :  0.3333333333333333\n",
      "Score :  8.612150057732663e-155\n",
      "Score :  6.19152043543562e-204\n",
      "Score :  1.384292958842266e-231\n",
      "captions_ref=  ['a', 'man', 'and', 'woman', 'sitting', 'on', 'a', 'park']\n",
      "captions_cand=  ['a', 'man', 'sitting', 'on', 'a', 'bench', 'overlooking', 'a', 'large', 'body', 'of', 'water']\n",
      "Score :  0.4166666666666667\n",
      "Score :  0.337099931231621\n",
      "Score :  0.22820266830716382\n",
      "Score :  3.9876353728947065e-78\n",
      "captions_ref=  ['this', 'kitchen', 'has', 'white', 'cabinets', 'and', 'wooden', 'counter']\n",
      "captions_cand=  ['a', 'kitchen', 'with', 'a', 'large', 'window', 'and', 'a', 'large', 'window']\n",
      "Score :  0.2\n",
      "Score :  6.6709427497276e-155\n",
      "Score :  5.231030151567236e-204\n",
      "Score :  1.2183324802375697e-231\n",
      "captions_ref=  ['three', 'restaurant', 'employees', 'behind', 'a', 'counter', 'preparing', 'food']\n",
      "captions_cand=  ['a', 'man', 'in', 'a', 'kitchen', 'preparing', 'to', 'serve', 'a', 'meal']\n",
      "Score :  0.2\n",
      "Score :  6.6709427497276e-155\n",
      "Score :  5.231030151567236e-204\n",
      "Score :  1.2183324802375697e-231\n",
      "captions_ref=  ['a', 'train', 'is', 'pulling', 'into', 'the', 'train', 'station']\n",
      "captions_cand=  ['a', 'train', 'is', 'parked', 'on', 'the', 'tracks', 'near', 'a', 'platform']\n",
      "Score :  0.4\n",
      "Score :  0.2981423969999719\n",
      "Score :  0.22651656746142707\n",
      "Score :  3.965294799986402e-78\n",
      "captions_ref=  ['a', 'pizza', 'with', 'a', 'cheesy', 'topping', 'on', 'it']\n",
      "captions_cand=  ['a', 'pizza', 'sitting', 'on', 'top', 'of', 'a', 'pan', 'covered', 'in', 'cheese']\n",
      "Score :  0.36363636363636365\n",
      "Score :  0.19069251784911848\n",
      "Score :  9.991803243213663e-103\n",
      "Score :  6.513869329968086e-155\n",
      "captions_ref=  ['a', 'kitchen', 'with', 'tiled', 'floors', 'and', 'wallpapered', 'walls']\n",
      "captions_cand=  ['a', 'kitchen', 'with', 'a', 'refrigerator', 'and', 'a', 'table']\n",
      "Score :  0.5\n",
      "Score :  0.3779644730092272\n",
      "Score :  0.29129144784395894\n",
      "Score :  4.797597231912944e-78\n",
      "captions_ref=  ['a', 'vase', 'with', 'designs', 'of', 'horses', 'and', 'men']\n",
      "captions_cand=  ['a', 'yellow', 'and', 'black', 'bird', 'sitting', 'on', 'a', 'table']\n",
      "Score :  0.2222222222222222\n",
      "Score :  7.031791076575252e-155\n",
      "Score :  5.41610649555647e-204\n",
      "Score :  1.2508498911928379e-231\n",
      "captions_ref=  ['small', 'dog', 'sitting', 'on', 'display', 'behind', 'the', 'window']\n",
      "captions_cand=  ['a', 'dog', 'sitting', 'in', 'a', 'chair', 'next', 'to', 'a', 'window']\n",
      "Score :  0.3\n",
      "Score :  0.18257418583505533\n",
      "Score :  9.708980935455592e-103\n",
      "Score :  6.373704167435469e-155\n",
      "captions_ref=  ['a', 'couple', 'of', '<unk>', 'look', 'to', 'help', 'a']\n",
      "captions_cand=  ['a', 'group', 'of', 'people', 'standing', 'next', 'to', 'a', 'train']\n",
      "Score :  0.4444444444444444\n",
      "Score :  9.94445430826712e-155\n",
      "Score :  6.808118302749002e-204\n",
      "Score :  1.4875195904069663e-231\n",
      "captions_ref=  ['a', '<unk>', '<unk>', 'bathroom', 'is', 'laid', 'out', 'with']\n",
      "captions_cand=  ['a', 'bathroom', 'with', 'a', 'sink', 'and', 'a', 'mirror', 'the', 'toilet']\n",
      "Score :  0.3\n",
      "Score :  8.170202920075766e-155\n",
      "Score :  5.979947053917884e-204\n",
      "Score :  1.3483065280626046e-231\n",
      "captions_ref=  ['an', 'elephant', 'is', 'walking', 'along', 'with', 'another', 'elephant']\n",
      "captions_cand=  ['a', 'large', 'elephant', 'standing', 'next', 'to', 'a', 'tree']\n",
      "Score :  0.12500000000000003\n",
      "Score :  5.273843307431707e-155\n",
      "Score :  4.4794802798562165e-204\n",
      "Score :  1.0832677820940877e-231\n",
      "captions_ref=  ['an', 'airplane', 'flying', 'in', 'a', 'cloudy', 'blue', 'sky']\n",
      "captions_cand=  ['a', 'large', 'propeller', 'plane', 'flying', 'through', 'a', 'cloudy', 'sky']\n",
      "Score :  0.4444444444444444\n",
      "Score :  0.23570226039551587\n",
      "Score :  1.149168560061151e-102\n",
      "Score :  7.241926111174567e-155\n",
      "captions_ref=  ['a', 'picture', 'of', 'a', 'pizza', 'that', 'was', 'delivered']\n",
      "captions_cand=  ['a', 'pizza', 'sitting', 'on', 'top', 'of', 'a', 'white', 'plate']\n",
      "Score :  0.4444444444444444\n",
      "Score :  0.33333333333333337\n",
      "Score :  1.4445202495768514e-102\n",
      "Score :  8.612150057732663e-155\n",
      "captions_ref=  ['a', 'pool', 'with', 'several', 'visitors', 'sitting', 'beside', 'it']\n",
      "captions_cand=  ['a', 'man', 'is', 'sitting', 'on', 'a', 'bench', 'with', 'a', 'dog']\n",
      "Score :  0.3\n",
      "Score :  8.170202920075766e-155\n",
      "Score :  5.979947053917884e-204\n",
      "Score :  1.3483065280626046e-231\n",
      "captions_ref=  ['an', 'older', 'man', 'holding', 'on', 'to', 'a', 'train']\n",
      "captions_cand=  ['a', 'man', 'standing', 'next', 'to', 'a', 'train', 'on', 'a', 'train', 'track']\n",
      "Score :  0.45454545454545453\n",
      "Score :  0.30151134457776363\n",
      "Score :  0.21950296237497788\n",
      "Score :  3.8719283242189536e-78\n",
      "captions_ref=  ['a', 'black', 'cat', 'sits', 'in', 'a', 'cream', 'tub']\n",
      "captions_cand=  ['a', 'cat', 'laying', 'on', 'top', 'of', 'a', 'white', 'bed']\n",
      "Score :  0.3333333333333333\n",
      "Score :  8.612150057732663e-155\n",
      "Score :  6.19152043543562e-204\n",
      "Score :  1.384292958842266e-231\n",
      "captions_ref=  ['an', 'old', 'toilet', 'sitting', 'next', 'to', 'other', 'debris']\n",
      "captions_cand=  ['a', 'bathroom', 'with', 'a', 'toilet', 'and', 'a', 'sink']\n",
      "Score :  0.12500000000000003\n",
      "Score :  5.273843307431707e-155\n",
      "Score :  4.4794802798562165e-204\n",
      "Score :  1.0832677820940877e-231\n",
      "captions_ref=  ['this', 'living', 'room', 'is', 'painted', 'yellow', 'with', 'beige']\n",
      "captions_cand=  ['a', 'living', 'room', 'with', 'a', 'large', 'window', 'and', 'a', 'chair']\n",
      "Score :  0.3\n",
      "Score :  0.18257418583505533\n",
      "Score :  9.708980935455592e-103\n",
      "Score :  6.373704167435469e-155\n",
      "captions_ref=  ['a', 'clean', 'bathroom', 'with', 'black', 'marble', 'counter', 'top']\n",
      "captions_cand=  ['a', 'kitchen', 'with', 'a', 'large', 'window', 'and', 'a', 'large', 'window']\n",
      "Score :  0.2\n",
      "Score :  6.6709427497276e-155\n",
      "Score :  5.231030151567236e-204\n",
      "Score :  1.2183324802375697e-231\n",
      "captions_ref=  ['a', 'plate', 'of', 'food', 'that', 'is', 'on', 'a']\n",
      "captions_cand=  ['a', 'sandwich', 'with', 'meat', 'and', 'lettuce', 'on', 'a', 'plate']\n",
      "Score :  0.4444444444444444\n",
      "Score :  0.33333333333333337\n",
      "Score :  1.4445202495768514e-102\n",
      "Score :  8.612150057732663e-155\n",
      "captions_ref=  ['a', 'stuffed', 'animal', 'is', 'inside', 'of', 'a', 'microwave']\n",
      "captions_cand=  ['a', 'black', 'and', 'white', 'cat', 'sitting', 'on', 'a', 'desk']\n",
      "Score :  0.2222222222222222\n",
      "Score :  7.031791076575252e-155\n",
      "Score :  5.41610649555647e-204\n",
      "Score :  1.2508498911928379e-231\n",
      "captions_ref=  ['a', 'girl', 'on', 'a', 'skateboard', 'watches', 'skateboarding', 'action']\n",
      "captions_cand=  ['a', 'young', 'boy', 'holding', 'a', 'tennis', 'racquet', 'on', 'a', 'tennis', 'court', 'a', 'game']\n",
      "Score :  0.23076923076923078\n",
      "Score :  0.1386750490563073\n",
      "Score :  8.097343424563915e-103\n",
      "Score :  5.554837769749797e-155\n",
      "captions_ref=  ['several', 'people', 'with', 'numbers', 'going', 'downhill', 'on', 'skis']\n",
      "captions_cand=  ['a', 'group', 'of', 'people', 'riding', 'skis', 'on', 'a', 'snowy', 'slope']\n",
      "Score :  0.3\n",
      "Score :  8.170202920075766e-155\n",
      "Score :  5.979947053917884e-204\n",
      "Score :  1.3483065280626046e-231\n",
      "captions_ref=  ['two', 'animals', 'in', 'a', 'field', 'next', 'to', 'some']\n",
      "captions_cand=  ['a', 'clock', 'tower', 'in', 'a', 'garden', 'with', 'a', 'sky', 'background']\n",
      "Score :  0.2\n",
      "Score :  0.14907119849998599\n",
      "Score :  8.493047105004868e-103\n",
      "Score :  5.7592918561109494e-155\n",
      "captions_ref=  ['a', 'stone', 'bench', 'sits', 'near', 'some', 'fallen', 'trees']\n",
      "captions_cand=  ['a', 'giraffe', 'standing', 'next', 'to', 'a', 'tree', 'in', 'a', 'field']\n",
      "Score :  0.10000000000000002\n",
      "Score :  4.717068855239749e-155\n",
      "Score :  4.16147533319354e-204\n",
      "Score :  1.0244914152188952e-231\n",
      "captions_ref=  ['flock', 'of', 'ducks', 'flying', 'over', 'a', 'sandy', 'beach']\n",
      "captions_cand=  ['a', 'flock', 'of', 'birds', 'standing', 'on', 'top', 'of', 'a', 'body', 'of', 'water']\n",
      "Score :  0.25\n",
      "Score :  0.1507556722888818\n",
      "Score :  8.556266030080004e-103\n",
      "Score :  5.791739854583281e-155\n",
      "captions_ref=  ['a', 'person', 'that', 'is', 'snowboarding', 'in', 'some', 'snow']\n",
      "captions_cand=  ['a', 'man', 'riding', 'skis', 'down', 'a', 'snow', 'covered', 'slope']\n",
      "Score :  0.2222222222222222\n",
      "Score :  7.031791076575252e-155\n",
      "Score :  5.41610649555647e-204\n",
      "Score :  1.2508498911928379e-231\n",
      "captions_ref=  ['a', 'bus', 'with', 'people', 'is', 'driving', 'down', 'the']\n",
      "captions_cand=  ['a', 'bus', 'is', 'parked', 'in', 'front', 'of', 'a', 'building']\n",
      "Score :  0.3333333333333333\n",
      "Score :  0.20412414523193154\n",
      "Score :  1.0450906266575576e-102\n",
      "Score :  6.7393716283177006e-155\n",
      "captions_ref=  ['a', 'single', 'propeller', 'silver', 'airplane', 'in', 'the', 'sky']\n",
      "captions_cand=  ['a', 'large', 'commercial', 'airplane', 'flying', 'in', 'the', 'sky']\n",
      "Score :  0.625\n",
      "Score :  0.42257712736425823\n",
      "Score :  0.3135508904498039\n",
      "Score :  5.072841446586652e-78\n",
      "captions_ref=  ['a', 'young', 'girl', 'eating', 'a', 'slice', 'of', 'pizza']\n",
      "captions_cand=  ['a', 'man', 'holding', 'a', 'slice', 'of', 'pizza', 'with', 'a', 'bite', 'out', 'of', 'it']\n",
      "Score :  0.38461538461538464\n",
      "Score :  0.31008683647302115\n",
      "Score :  0.2630627225467731\n",
      "Score :  0.2044800736021839\n",
      "captions_ref=  ['a', 'whole', 'chicken', 'in', 'roasting', 'in', 'an', 'oven']\n",
      "captions_cand=  ['a', 'plate', 'of', 'donuts', 'with', 'a', 'knife', 'and', 'fork']\n",
      "Score :  0.11111111111111109\n",
      "Score :  4.972227154133551e-155\n",
      "Score :  4.308710317117189e-204\n",
      "Score :  1.0518351895246305e-231\n",
      "captions_ref=  ['a', 'giraffe', '<unk>', 'it', \"'s\", 'head', 'towards', 'a']\n",
      "captions_cand=  ['a', 'giraffe', 'standing', 'in', 'a', 'field', 'with', 'a', 'tree', 'in', 'the', 'background']\n",
      "Score :  0.25\n",
      "Score :  0.1507556722888818\n",
      "Score :  8.556266030080004e-103\n",
      "Score :  5.791739854583281e-155\n",
      "captions_ref=  ['a', 'large', 'white', 'airplane', 'on', 'a', 'open', 'road']\n",
      "captions_cand=  ['a', 'large', 'passenger', 'jet', 'sitting', 'on', 'top', 'of', 'an', 'airport', 'runway']\n",
      "Score :  0.2727272727272727\n",
      "Score :  0.1651445647689541\n",
      "Score :  9.086865300538255e-103\n",
      "Score :  6.061838450024688e-155\n",
      "captions_ref=  ['six', 'different', 'cellphones', 'on', 'a', 'white', 'textured', 'surface']\n",
      "captions_cand=  ['a', 'bunch', 'of', 'different', 'types', 'of', 'cell', 'phones', 'on', 'a', 'table']\n",
      "Score :  0.2727272727272727\n",
      "Score :  0.1651445647689541\n",
      "Score :  9.086865300538255e-103\n",
      "Score :  6.061838450024688e-155\n",
      "captions_ref=  ['a', 'photo', 'looking', 'down', 'into', 'a', 'toilet', 'bowl']\n",
      "captions_cand=  ['a', 'toilet', 'with', 'a', 'lid', 'and', 'a', '<unk>']\n",
      "Score :  0.375\n",
      "Score :  0.23145502494313785\n",
      "Score :  1.1354594457738457e-102\n",
      "Score :  7.176381577237209e-155\n",
      "captions_ref=  ['small', 'computer', 'area', 'with', 'a', 'small', 'wooden', 'desk']\n",
      "captions_cand=  ['a', 'desk', 'with', 'a', 'monitor', 'a', 'keyboard', 'and', 'a', 'monitor', 'a']\n",
      "Score :  0.2727272727272727\n",
      "Score :  0.1651445647689541\n",
      "Score :  9.086865300538255e-103\n",
      "Score :  6.061838450024688e-155\n",
      "captions_ref=  ['an', 'elephant', 'walking', 'alone', 'in', 'a', 'grassy', 'area']\n",
      "captions_cand=  ['an', 'elephant', 'standing', 'in', 'a', 'field', 'with', 'a', 'tree', 'in', 'the', 'background']\n",
      "Score :  0.3333333333333333\n",
      "Score :  0.24618298195866542\n",
      "Score :  1.1826438038915621e-102\n",
      "Score :  7.401184483348608e-155\n",
      "captions_ref=  ['a', 'single', 'urinal', 'in', 'the', 'corner', 'with', 'tiled']\n",
      "captions_cand=  ['a', 'bathroom', 'with', 'a', 'toilet', 'and', 'a', 'sink']\n",
      "Score :  0.25\n",
      "Score :  7.458340731200295e-155\n",
      "Score :  5.6307666226860216e-204\n",
      "Score :  1.2882297539194154e-231\n",
      "captions_ref=  ['food', 'is', 'being', 'prepared', 'in', 'a', 'toaster', 'oven']\n",
      "captions_cand=  ['a', 'grill', 'with', 'a', 'lot', 'of', 'donuts', 'on', 'it']\n",
      "Score :  0.11111111111111109\n",
      "Score :  4.972227154133551e-155\n",
      "Score :  4.308710317117189e-204\n",
      "Score :  1.0518351895246305e-231\n",
      "captions_ref=  ['a', 'woman', 'is', 'striking', 'a', 'ball', 'with', 'a']\n",
      "captions_cand=  ['a', 'woman', 'is', 'playing', 'tennis', 'on', 'a', 'court']\n",
      "Score :  0.5\n",
      "Score :  0.3779644730092272\n",
      "Score :  0.29129144784395894\n",
      "Score :  4.797597231912944e-78\n",
      "captions_ref=  ['man', 'with', 'helmet', 'walking', 'toward', 'man', 'on', 'motorcycle']\n",
      "captions_cand=  ['a', 'man', 'and', 'a', 'woman', 'riding', 'a', 'motorcycle', 'down', 'a', 'street']\n",
      "Score :  0.18181818181818182\n",
      "Score :  6.360494346864465e-155\n",
      "Score :  5.069062397554405e-204\n",
      "Score :  1.1896457329133973e-231\n",
      "captions_ref=  ['two', 'zebras', 'standing', 'on', 'a', 'gravel', 'road', 'look']\n",
      "captions_cand=  ['two', 'zebras', 'standing', 'in', 'a', 'grassy', 'field', 'next', 'to', 'trees']\n",
      "Score :  0.4\n",
      "Score :  0.2981423969999719\n",
      "Score :  0.22651656746142707\n",
      "Score :  3.965294799986402e-78\n",
      "captions_ref=  ['a', 'couple', 'of', 'women', 'standing', 'underneath', 'a', 'umbrella']\n",
      "captions_cand=  ['a', 'woman', 'with', 'a', 'hat', 'and', 'glasses', 'is', 'holding', 'a', 'parasol']\n",
      "Score :  0.18181818181818182\n",
      "Score :  6.360494346864465e-155\n",
      "Score :  5.069062397554405e-204\n",
      "Score :  1.1896457329133973e-231\n",
      "captions_ref=  ['the', 'two', 'monitors', 'are', 'sitting', 'among', 'the', 'laptops']\n",
      "captions_cand=  ['a', 'computer', 'desk', 'with', 'a', 'laptop', 'computer', 'on', 'it', 'it', 'the', 'same', 'direction']\n",
      "Score :  0.07692307692307693\n",
      "Score :  4.1371430671115046e-155\n",
      "Score :  3.816330853691048e-204\n",
      "Score :  9.594503055152632e-232\n",
      "captions_ref=  ['a', 'man', 'sits', 'in', 'a', 'diner', 'photographing', 'his']\n",
      "captions_cand=  ['a', 'man', 'is', 'sitting', 'at', 'a', 'table', 'with', 'a', 'plate', 'of', 'food']\n",
      "Score :  0.25\n",
      "Score :  0.1507556722888818\n",
      "Score :  8.556266030080004e-103\n",
      "Score :  5.791739854583281e-155\n",
      "captions_ref=  ['an', 'airliner', 'is', 'loaded', 'passengers', 'on', 'the', 'tarmac']\n",
      "captions_cand=  ['a', 'large', 'jetliner', 'sitting', 'on', 'top', 'of', 'an', 'airport', 'runway']\n",
      "Score :  0.2\n",
      "Score :  6.6709427497276e-155\n",
      "Score :  5.231030151567236e-204\n",
      "Score :  1.2183324802375697e-231\n",
      "captions_ref=  ['a', 'baseball', 'player', 'holding', 'a', 'ball', 'in', 'his']\n",
      "captions_cand=  ['a', 'young', 'boy', 'in', 'a', 'baseball', 'uniform', 'holding', 'a', 'bat']\n",
      "Score :  0.5\n",
      "Score :  0.3333333333333333\n",
      "Score :  1.4445202495768514e-102\n",
      "Score :  8.612150057732663e-155\n",
      "captions_ref=  ['person', 'in', 'a', 'grassy', 'green', 'field', '<unk>', 'by']\n",
      "captions_cand=  ['a', 'man', 'standing', 'in', 'a', 'field', 'with', 'a', 'kite']\n",
      "Score :  0.3333333333333333\n",
      "Score :  0.20412414523193154\n",
      "Score :  1.0450906266575576e-102\n",
      "Score :  6.7393716283177006e-155\n",
      "captions_ref=  ['two', 'water', 'skies', 'sticking', 'up', 'off', 'the', 'water']\n",
      "captions_cand=  ['a', 'surfer', 'riding', 'a', 'wave', 'in', 'the', 'ocean']\n",
      "Score :  0.12500000000000003\n",
      "Score :  5.273843307431707e-155\n",
      "Score :  4.4794802798562165e-204\n",
      "Score :  1.0832677820940877e-231\n",
      "captions_ref=  ['a', '<unk>', 'with', 'many', 'boats', 'near', 'some', 'houses']\n",
      "captions_cand=  ['a', 'group', 'of', 'boats', 'are', 'docked', 'in', 'a', 'harbor']\n",
      "Score :  0.2222222222222222\n",
      "Score :  7.031791076575252e-155\n",
      "Score :  5.41610649555647e-204\n",
      "Score :  1.2508498911928379e-231\n",
      "captions_ref=  ['the', 'people', 'are', 'skiing', 'on', 'the', 'small', 'slopes']\n",
      "captions_cand=  ['a', 'man', 'riding', 'skis', 'down', 'a', 'snow', 'covered', 'slope']\n",
      "Score :  0\n",
      "Score :  0\n",
      "Score :  0\n",
      "Score :  0\n",
      "captions_ref=  ['a', 'woodland', 'scene', 'created', 'with', 'cake', 'and', 'frosting']\n",
      "captions_cand=  ['a', 'man', 'is', 'holding', 'a', 'large', 'sandwich', 'in', 'his', 'hands']\n",
      "Score :  0.10000000000000002\n",
      "Score :  4.717068855239749e-155\n",
      "Score :  4.16147533319354e-204\n",
      "Score :  1.0244914152188952e-231\n",
      "captions_ref=  ['there', 'is', 'an', 'uncooked', 'pizza', 'on', 'a', 'pizza']\n",
      "captions_cand=  ['a', 'pizza', 'sitting', 'on', 'top', 'of', 'a', 'white', 'plate', 'the', 'pizza']\n",
      "Score :  0.36363636363636365\n",
      "Score :  0.19069251784911848\n",
      "Score :  9.991803243213663e-103\n",
      "Score :  6.513869329968086e-155\n",
      "captions_ref=  ['a', 'large', 'clock', 'tower', 'against', 'a', 'cloudy', 'sky']\n",
      "captions_cand=  ['a', 'large', 'clock', 'tower', 'with', 'a', 'clock', 'on', 'top']\n",
      "Score :  0.5555555555555556\n",
      "Score :  0.45643546458763845\n",
      "Score :  0.39413766288863206\n",
      "Score :  0.3155984539112945\n",
      "captions_ref=  ['a', 'black', 'and', 'white', 'photo', 'of', 'people', 'riding']\n",
      "captions_cand=  ['a', 'man', 'is', 'riding', 'a', 'bicycle', 'with', 'a', 'bicycle']\n",
      "Score :  0.2222222222222222\n",
      "Score :  7.031791076575252e-155\n",
      "Score :  5.41610649555647e-204\n",
      "Score :  1.2508498911928379e-231\n",
      "captions_ref=  ['a', 'clean', 'organized', 'and', 'fully', 'furnished', 'living', 'area']\n",
      "captions_cand=  ['a', 'living', 'room', 'with', 'a', 'large', 'window', 'and', 'a', 'chair', 'the', 'couch', 'and']\n",
      "Score :  0.23076923076923078\n",
      "Score :  7.165741990418252e-155\n",
      "Score :  5.4839821500978084e-204\n",
      "Score :  1.2627076138080564e-231\n",
      "captions_ref=  ['group', 'of', 'giraffes', 'mingling', 'in', 'a', 'stand', 'of']\n",
      "captions_cand=  ['a', 'group', 'of', 'giraffes', 'standing', 'in', 'a', 'field']\n",
      "Score :  0.625\n",
      "Score :  0.5175491695067657\n",
      "Score :  0.35844139094416977\n",
      "Score :  5.614021910443866e-78\n",
      "captions_ref=  ['people', 'are', 'watching', 'a', 'movie', 'on', 'their', 'laptop']\n",
      "captions_cand=  ['a', 'large', 'sandwich', 'sitting', 'on', 'top', 'of', 'a', 'table']\n",
      "Score :  0.2222222222222222\n",
      "Score :  7.031791076575252e-155\n",
      "Score :  5.41610649555647e-204\n",
      "Score :  1.2508498911928379e-231\n",
      "captions_ref=  ['a', 'red', 'fire', 'hydrant', 'sits', 'on', 'the', 'curb']\n",
      "captions_cand=  ['a', 'red', 'fire', 'hydrant', 'sitting', 'on', 'the', 'side', 'of', 'a', 'road']\n",
      "Score :  0.5454545454545454\n",
      "Score :  0.4670993664969138\n",
      "Score :  0.3683409417293896\n",
      "Score :  0.2790159393585827\n",
      "captions_ref=  ['a', 'quarter', 'is', 'surrounded', 'by', 'some', 'rocks', 'with']\n",
      "captions_cand=  ['a', 'couple', 'of', 'doughnuts', 'are', 'on', 'a', 'table']\n",
      "Score :  0.12500000000000003\n",
      "Score :  5.273843307431707e-155\n",
      "Score :  4.4794802798562165e-204\n",
      "Score :  1.0832677820940877e-231\n",
      "[0.29661306575369073, 0.14011115421007947, 0.011593417363529689, 0.01736700719631385]\n"
     ]
    },
    {
     "name": "stderr",
     "output_type": "stream",
     "text": [
      "\n"
     ]
    }
   ],
   "source": [
    "bleu_score1, bleu_score2, bleu_score3, bleu_score4 = get_avg_bleu(encoder, decoder, val_loader, device)\n",
    "print([bleu_score1, bleu_score2, bleu_score3, bleu_score4])"
   ]
  },
  {
   "cell_type": "code",
   "execution_count": null,
   "metadata": {},
   "outputs": [],
   "source": []
  }
 ],
 "metadata": {
  "accelerator": "GPU",
  "colab": {
   "collapsed_sections": [],
   "name": "Model0.ipynb",
   "provenance": []
  },
  "kernelspec": {
   "display_name": "Python 3",
   "language": "python",
   "name": "python3"
  },
  "language_info": {
   "codemirror_mode": {
    "name": "ipython",
    "version": 3
   },
   "file_extension": ".py",
   "mimetype": "text/x-python",
   "name": "python",
   "nbconvert_exporter": "python",
   "pygments_lexer": "ipython3",
   "version": "3.7.7"
  },
  "widgets": {
   "application/vnd.jupyter.widget-state+json": {
    "187efbfeefe642a5b6db8a3330faa718": {
     "model_module": "@jupyter-widgets/controls",
     "model_name": "ProgressStyleModel",
     "state": {
      "_model_module": "@jupyter-widgets/controls",
      "_model_module_version": "1.5.0",
      "_model_name": "ProgressStyleModel",
      "_view_count": null,
      "_view_module": "@jupyter-widgets/base",
      "_view_module_version": "1.2.0",
      "_view_name": "StyleView",
      "bar_color": null,
      "description_width": "initial"
     }
    },
    "3d12a3efc75342f6a316e57bbb055259": {
     "model_module": "@jupyter-widgets/base",
     "model_name": "LayoutModel",
     "state": {
      "_model_module": "@jupyter-widgets/base",
      "_model_module_version": "1.2.0",
      "_model_name": "LayoutModel",
      "_view_count": null,
      "_view_module": "@jupyter-widgets/base",
      "_view_module_version": "1.2.0",
      "_view_name": "LayoutView",
      "align_content": null,
      "align_items": null,
      "align_self": null,
      "border": null,
      "bottom": null,
      "display": null,
      "flex": null,
      "flex_flow": null,
      "grid_area": null,
      "grid_auto_columns": null,
      "grid_auto_flow": null,
      "grid_auto_rows": null,
      "grid_column": null,
      "grid_gap": null,
      "grid_row": null,
      "grid_template_areas": null,
      "grid_template_columns": null,
      "grid_template_rows": null,
      "height": null,
      "justify_content": null,
      "justify_items": null,
      "left": null,
      "margin": null,
      "max_height": null,
      "max_width": null,
      "min_height": null,
      "min_width": null,
      "object_fit": null,
      "object_position": null,
      "order": null,
      "overflow": null,
      "overflow_x": null,
      "overflow_y": null,
      "padding": null,
      "right": null,
      "top": null,
      "visibility": null,
      "width": null
     }
    },
    "8da6aba469b749f2ab8cdf0ae28fd54d": {
     "model_module": "@jupyter-widgets/base",
     "model_name": "LayoutModel",
     "state": {
      "_model_module": "@jupyter-widgets/base",
      "_model_module_version": "1.2.0",
      "_model_name": "LayoutModel",
      "_view_count": null,
      "_view_module": "@jupyter-widgets/base",
      "_view_module_version": "1.2.0",
      "_view_name": "LayoutView",
      "align_content": null,
      "align_items": null,
      "align_self": null,
      "border": null,
      "bottom": null,
      "display": null,
      "flex": null,
      "flex_flow": null,
      "grid_area": null,
      "grid_auto_columns": null,
      "grid_auto_flow": null,
      "grid_auto_rows": null,
      "grid_column": null,
      "grid_gap": null,
      "grid_row": null,
      "grid_template_areas": null,
      "grid_template_columns": null,
      "grid_template_rows": null,
      "height": null,
      "justify_content": null,
      "justify_items": null,
      "left": null,
      "margin": null,
      "max_height": null,
      "max_width": null,
      "min_height": null,
      "min_width": null,
      "object_fit": null,
      "object_position": null,
      "order": null,
      "overflow": null,
      "overflow_x": null,
      "overflow_y": null,
      "padding": null,
      "right": null,
      "top": null,
      "visibility": null,
      "width": null
     }
    },
    "9a9260a86167496ebba04c1a1def834e": {
     "model_module": "@jupyter-widgets/controls",
     "model_name": "HBoxModel",
     "state": {
      "_dom_classes": [],
      "_model_module": "@jupyter-widgets/controls",
      "_model_module_version": "1.5.0",
      "_model_name": "HBoxModel",
      "_view_count": null,
      "_view_module": "@jupyter-widgets/controls",
      "_view_module_version": "1.5.0",
      "_view_name": "HBoxView",
      "box_style": "",
      "children": [
       "IPY_MODEL_dea161f5239443ad9ff5e9011de6a5db",
       "IPY_MODEL_fc2e24ea8bb54c3183e88e6c77c9ed41"
      ],
      "layout": "IPY_MODEL_3d12a3efc75342f6a316e57bbb055259"
     }
    },
    "bf5a193c0297497d8833d16de0dfa75c": {
     "model_module": "@jupyter-widgets/base",
     "model_name": "LayoutModel",
     "state": {
      "_model_module": "@jupyter-widgets/base",
      "_model_module_version": "1.2.0",
      "_model_name": "LayoutModel",
      "_view_count": null,
      "_view_module": "@jupyter-widgets/base",
      "_view_module_version": "1.2.0",
      "_view_name": "LayoutView",
      "align_content": null,
      "align_items": null,
      "align_self": null,
      "border": null,
      "bottom": null,
      "display": null,
      "flex": null,
      "flex_flow": null,
      "grid_area": null,
      "grid_auto_columns": null,
      "grid_auto_flow": null,
      "grid_auto_rows": null,
      "grid_column": null,
      "grid_gap": null,
      "grid_row": null,
      "grid_template_areas": null,
      "grid_template_columns": null,
      "grid_template_rows": null,
      "height": null,
      "justify_content": null,
      "justify_items": null,
      "left": null,
      "margin": null,
      "max_height": null,
      "max_width": null,
      "min_height": null,
      "min_width": null,
      "object_fit": null,
      "object_position": null,
      "order": null,
      "overflow": null,
      "overflow_x": null,
      "overflow_y": null,
      "padding": null,
      "right": null,
      "top": null,
      "visibility": null,
      "width": null
     }
    },
    "dea161f5239443ad9ff5e9011de6a5db": {
     "model_module": "@jupyter-widgets/controls",
     "model_name": "FloatProgressModel",
     "state": {
      "_dom_classes": [],
      "_model_module": "@jupyter-widgets/controls",
      "_model_module_version": "1.5.0",
      "_model_name": "FloatProgressModel",
      "_view_count": null,
      "_view_module": "@jupyter-widgets/controls",
      "_view_module_version": "1.5.0",
      "_view_name": "ProgressView",
      "bar_style": "success",
      "description": "100%",
      "description_tooltip": null,
      "layout": "IPY_MODEL_bf5a193c0297497d8833d16de0dfa75c",
      "max": 102502400,
      "min": 0,
      "orientation": "horizontal",
      "style": "IPY_MODEL_187efbfeefe642a5b6db8a3330faa718",
      "value": 102502400
     }
    },
    "f56d414fb2ce4cc3b4474a2586deb1bd": {
     "model_module": "@jupyter-widgets/controls",
     "model_name": "DescriptionStyleModel",
     "state": {
      "_model_module": "@jupyter-widgets/controls",
      "_model_module_version": "1.5.0",
      "_model_name": "DescriptionStyleModel",
      "_view_count": null,
      "_view_module": "@jupyter-widgets/base",
      "_view_module_version": "1.2.0",
      "_view_name": "StyleView",
      "description_width": ""
     }
    },
    "fc2e24ea8bb54c3183e88e6c77c9ed41": {
     "model_module": "@jupyter-widgets/controls",
     "model_name": "HTMLModel",
     "state": {
      "_dom_classes": [],
      "_model_module": "@jupyter-widgets/controls",
      "_model_module_version": "1.5.0",
      "_model_name": "HTMLModel",
      "_view_count": null,
      "_view_module": "@jupyter-widgets/controls",
      "_view_module_version": "1.5.0",
      "_view_name": "HTMLView",
      "description": "",
      "description_tooltip": null,
      "layout": "IPY_MODEL_8da6aba469b749f2ab8cdf0ae28fd54d",
      "placeholder": "​",
      "style": "IPY_MODEL_f56d414fb2ce4cc3b4474a2586deb1bd",
      "value": " 97.8M/97.8M [06:02&lt;00:00, 283kB/s]"
     }
    }
   }
  }
 },
 "nbformat": 4,
 "nbformat_minor": 1
}
